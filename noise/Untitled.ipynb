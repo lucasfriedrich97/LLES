{
 "cells": [
  {
   "cell_type": "code",
   "execution_count": 1,
   "id": "dc679c74",
   "metadata": {},
   "outputs": [
    {
     "name": "stderr",
     "output_type": "stream",
     "text": [
      "/home/lucas/.local/lib/python3.8/site-packages/tqdm/auto.py:22: TqdmWarning: IProgress not found. Please update jupyter and ipywidgets. See https://ipywidgets.readthedocs.io/en/stable/user_install.html\n",
      "  from .autonotebook import tqdm as notebook_tqdm\n"
     ]
    }
   ],
   "source": [
    "import numpy as np\n",
    "import math as m\n",
    "import torch\n",
    "from torch.autograd import Function\n",
    "import torch.optim as optim\n",
    "import torch.nn as nn\n",
    "import torch.nn.functional as F\n",
    "from qiskit import *\n",
    "import qiskit\n",
    "from qiskit import assemble,Aer\n",
    "from qiskit.visualization import *\n",
    "from qiskit.circuit import Parameter\n",
    "from qiskit import QuantumCircuit\n",
    "from qiskit.providers.aer import AerSimulator\n",
    "import torch.optim as optim\n",
    "from tqdm import trange\n",
    "import matplotlib.pyplot as plt\n",
    "from collections.abc import Iterable\n",
    "import functools\n",
    "import os\n",
    "from qiskit.providers.aer.noise import amplitude_damping_error\n",
    "\n",
    "from qiskit.providers.aer.noise import NoiseModel\n",
    "from qiskit import IBMQ, transpile\n"
   ]
  },
  {
   "cell_type": "code",
   "execution_count": 3,
   "id": "94afb4ec",
   "metadata": {},
   "outputs": [],
   "source": [
    "noise_model = NoiseModel()\n",
    "# Perform a noise simulation\n",
    "gamma = 0.1  # Taxa de amortecimento\n",
    "\n",
    "# Criando o erro de amortecimento de amplitude para um qubit\n",
    "error = amplitude_damping_error(gamma)\n",
    "\n",
    "# Adicionando o erro ao modelo de ruído para todos os gates u1, u2, u3\n",
    "noise_model.add_all_qubit_quantum_error(error, ['u1', 'u2', 'u3'])\n",
    "\n",
    "backend = AerSimulator(noise_model=noise_model)\n",
    "\n",
    "\n",
    "\n"
   ]
  },
  {
   "cell_type": "code",
   "execution_count": 19,
   "id": "15999535",
   "metadata": {},
   "outputs": [],
   "source": [
    "q = QuantumRegister(2,name='q')\n",
    "c = ClassicalRegister(2,name='c')\n",
    "qc = QuantumCircuit(q,c)\n",
    "\n",
    "qc.h(0)\n",
    "qc.cx(0,1)\n",
    "\n",
    "qc.measure([0,1],[0,1])\n",
    "\n",
    "backend = AerSimulator()\n",
    "\n",
    "\n"
   ]
  },
  {
   "cell_type": "code",
   "execution_count": 51,
   "id": "e710e057",
   "metadata": {},
   "outputs": [],
   "source": [
    "qc.draw('mpl').savefig('circuitRef.pdf')"
   ]
  },
  {
   "cell_type": "code",
   "execution_count": 29,
   "id": "ad344d3c",
   "metadata": {},
   "outputs": [],
   "source": [
    "transpiled_circ = transpile(qc, backend)\n",
    "\n",
    "\n",
    "\n",
    "qobj = assemble(transpiled_circ,shots=1024)\n",
    "\n",
    "job = backend.run(qobj)\n",
    "\n",
    "\n"
   ]
  },
  {
   "cell_type": "code",
   "execution_count": 32,
   "id": "ecf71291",
   "metadata": {},
   "outputs": [],
   "source": [
    "re=job.result().get_counts()\n",
    "\n",
    "for chave, valor in re.items():\n",
    "    re[chave] = valor / 1024\n"
   ]
  },
  {
   "cell_type": "code",
   "execution_count": 33,
   "id": "0bc08cf4",
   "metadata": {},
   "outputs": [
    {
     "data": {
      "text/plain": [
       "{'00': 0.490234375, '11': 0.509765625}"
      ]
     },
     "execution_count": 33,
     "metadata": {},
     "output_type": "execute_result"
    }
   ],
   "source": [
    "re"
   ]
  },
  {
   "cell_type": "code",
   "execution_count": 48,
   "id": "5a1e4899",
   "metadata": {},
   "outputs": [],
   "source": [
    "def plot_grafico_de_barras(dicionario):\n",
    "    # Separar chaves e valores do dicionário\n",
    "    chaves = list(dicionario.keys())\n",
    "    valores = list(dicionario.values())\n",
    "\n",
    "    # Criar o gráfico de barras\n",
    "    plt.bar(chaves, valores, color='cornflowerblue', width=0.6, zorder=2)\n",
    "\n",
    "    \n",
    "    plt.ylabel('Probability')\n",
    "    \n",
    "    # Adicionar grade\n",
    "    plt.grid(True, which='both', linestyle='--', linewidth=0.5, zorder=1)\n",
    "\n",
    "    # Mostrar o gráfico\n",
    "    plt.show()"
   ]
  },
  {
   "cell_type": "code",
   "execution_count": 49,
   "id": "3f9950de",
   "metadata": {},
   "outputs": [
    {
     "data": {
      "image/png": "[encoded data removed]",
      "text/plain": [
       "<Figure size 432x288 with 1 Axes>"
      ]
     },
     "metadata": {
      "needs_background": "light"
     },
     "output_type": "display_data"
    }
   ],
   "source": [
    "plot_grafico_de_barras(re)"
   ]
  },
  {
   "cell_type": "code",
   "execution_count": null,
   "id": "be0a62b7",
   "metadata": {},
   "outputs": [],
   "source": []
  }
 ],
 "metadata": {
  "kernelspec": {
   "display_name": "Python 3 (ipykernel)",
   "language": "python",
   "name": "python3"
  },
  "language_info": {
   "codemirror_mode": {
    "name": "ipython",
    "version": 3
   },
   "file_extension": ".py",
   "mimetype": "text/x-python",
   "name": "python",
   "nbconvert_exporter": "python",
   "pygments_lexer": "ipython3",
   "version": "3.8.10"
  }
 },
 "nbformat": 4,
 "nbformat_minor": 5
}
